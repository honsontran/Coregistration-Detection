{
 "cells": [
  {
   "cell_type": "code",
   "execution_count": 1,
   "metadata": {
    "colab": {
     "base_uri": "https://localhost:8080/",
     "height": 122
    },
    "colab_type": "code",
    "executionInfo": {
     "elapsed": 22853,
     "status": "ok",
     "timestamp": 1581523724484,
     "user": {
      "displayName": "Sun-Joo Jang",
      "photoUrl": "",
      "userId": "11345995941196038776"
     },
     "user_tz": 300
    },
    "id": "PW3P84PZgaxY",
    "outputId": "49571ca6-4484-490a-8ddb-573c8d5b31d2"
   },
   "outputs": [
    {
     "name": "stdout",
     "output_type": "stream",
     "text": [
      "Go to this URL in a browser: https://accounts.google.com/o/oauth2/auth?client_id=947318989803-6bn6qk8qdgf4n4g3pfee6491hc0brc4i.apps.googleusercontent.com&redirect_uri=urn%3aietf%3awg%3aoauth%3a2.0%3aoob&response_type=code&scope=email%20https%3a%2f%2fwww.googleapis.com%2fauth%2fdocs.test%20https%3a%2f%2fwww.googleapis.com%2fauth%2fdrive%20https%3a%2f%2fwww.googleapis.com%2fauth%2fdrive.photos.readonly%20https%3a%2f%2fwww.googleapis.com%2fauth%2fpeopleapi.readonly\n",
      "\n",
      "Enter your authorization code:\n",
      "··········\n",
      "Mounted at /content/drive\n"
     ]
    }
   ],
   "source": [
    "from google.colab import drive\n",
    "drive.mount('/content/drive', force_remount=True)"
   ]
  },
  {
   "cell_type": "code",
   "execution_count": 2,
   "metadata": {
    "colab": {
     "base_uri": "https://localhost:8080/",
     "height": 34
    },
    "colab_type": "code",
    "executionInfo": {
     "elapsed": 1949,
     "status": "ok",
     "timestamp": 1581523728461,
     "user": {
      "displayName": "Sun-Joo Jang",
      "photoUrl": "",
      "userId": "11345995941196038776"
     },
     "user_tz": 300
    },
    "id": "PmH6fHHdgkFg",
    "outputId": "3d00db24-4200-4666-d118-b935b6e47f4f"
   },
   "outputs": [
    {
     "name": "stdout",
     "output_type": "stream",
     "text": [
      "packages loaded\n"
     ]
    }
   ],
   "source": [
    "import numpy as np \n",
    "import cv2\n",
    "import os\n",
    "import glob\n",
    "import matplotlib.pyplot as plt\n",
    "from PIL import Image\n",
    "\n",
    "print(\"packages loaded\")"
   ]
  },
  {
   "cell_type": "code",
   "execution_count": 32,
   "metadata": {
    "colab": {
     "base_uri": "https://localhost:8080/",
     "height": 71
    },
    "colab_type": "code",
    "executionInfo": {
     "elapsed": 2771,
     "status": "ok",
     "timestamp": 1581525885019,
     "user": {
      "displayName": "Sun-Joo Jang",
      "photoUrl": "",
      "userId": "11345995941196038776"
     },
     "user_tz": 300
    },
    "id": "4NcuuVJFUmCf",
    "outputId": "387178f8-c3ca-426a-9c10-d85d203003b9"
   },
   "outputs": [
    {
     "name": "stdout",
     "output_type": "stream",
     "text": [
      "['/content/drive/My Drive/Blobdetector/data/P0026/Masknew']\n",
      "['/content/drive/My Drive/Blobdetector/data/P0026/Mask/P00260001.tif', '/content/drive/My Drive/Blobdetector/data/P0026/Mask/P00260002.tif', '/content/drive/My Drive/Blobdetector/data/P0026/Mask/P00260003.tif', '/content/drive/My Drive/Blobdetector/data/P0026/Mask/P00260004.tif', '/content/drive/My Drive/Blobdetector/data/P0026/Mask/P00260005.tif', '/content/drive/My Drive/Blobdetector/data/P0026/Mask/P00260006.tif', '/content/drive/My Drive/Blobdetector/data/P0026/Mask/P00260007.tif', '/content/drive/My Drive/Blobdetector/data/P0026/Mask/P00260008.tif', '/content/drive/My Drive/Blobdetector/data/P0026/Mask/P00260009.tif', '/content/drive/My Drive/Blobdetector/data/P0026/Mask/P00260010.tif', '/content/drive/My Drive/Blobdetector/data/P0026/Mask/P00260011.tif', '/content/drive/My Drive/Blobdetector/data/P0026/Mask/P00260012.tif', '/content/drive/My Drive/Blobdetector/data/P0026/Mask/P00260013.tif', '/content/drive/My Drive/Blobdetector/data/P0026/Mask/P00260014.tif', '/content/drive/My Drive/Blobdetector/data/P0026/Mask/P00260015.tif', '/content/drive/My Drive/Blobdetector/data/P0026/Mask/P00260016.tif', '/content/drive/My Drive/Blobdetector/data/P0026/Mask/P00260017.tif', '/content/drive/My Drive/Blobdetector/data/P0026/Mask/P00260018.tif', '/content/drive/My Drive/Blobdetector/data/P0026/Mask/P00260019.tif', '/content/drive/My Drive/Blobdetector/data/P0026/Mask/P00260020.tif', '/content/drive/My Drive/Blobdetector/data/P0026/Mask/P00260021.tif', '/content/drive/My Drive/Blobdetector/data/P0026/Mask/P00260022.tif', '/content/drive/My Drive/Blobdetector/data/P0026/Mask/P00260023.tif', '/content/drive/My Drive/Blobdetector/data/P0026/Mask/P00260024.tif', '/content/drive/My Drive/Blobdetector/data/P0026/Mask/P00260025.tif', '/content/drive/My Drive/Blobdetector/data/P0026/Mask/P00260026.tif', '/content/drive/My Drive/Blobdetector/data/P0026/Mask/P00260027.tif', '/content/drive/My Drive/Blobdetector/data/P0026/Mask/P00260028.tif', '/content/drive/My Drive/Blobdetector/data/P0026/Mask/P00260029.tif', '/content/drive/My Drive/Blobdetector/data/P0026/Mask/P00260030.tif', '/content/drive/My Drive/Blobdetector/data/P0026/Mask/P00260031.tif', '/content/drive/My Drive/Blobdetector/data/P0026/Mask/P00260032.tif', '/content/drive/My Drive/Blobdetector/data/P0026/Mask/P00260033.tif', '/content/drive/My Drive/Blobdetector/data/P0026/Mask/P00260034.tif', '/content/drive/My Drive/Blobdetector/data/P0026/Mask/P00260035.tif', '/content/drive/My Drive/Blobdetector/data/P0026/Mask/P00260036.tif', '/content/drive/My Drive/Blobdetector/data/P0026/Mask/P00260037.tif', '/content/drive/My Drive/Blobdetector/data/P0026/Mask/P00260038.tif', '/content/drive/My Drive/Blobdetector/data/P0026/Mask/P00260039.tif', '/content/drive/My Drive/Blobdetector/data/P0026/Mask/P00260040.tif', '/content/drive/My Drive/Blobdetector/data/P0026/Mask/P00260041.tif', '/content/drive/My Drive/Blobdetector/data/P0026/Mask/P00260042.tif', '/content/drive/My Drive/Blobdetector/data/P0026/Mask/P00260043.tif', '/content/drive/My Drive/Blobdetector/data/P0026/Mask/P00260044.tif', '/content/drive/My Drive/Blobdetector/data/P0026/Mask/P00260045.tif', '/content/drive/My Drive/Blobdetector/data/P0026/Mask/P00260046.tif', '/content/drive/My Drive/Blobdetector/data/P0026/Mask/P00260047.tif', '/content/drive/My Drive/Blobdetector/data/P0026/Mask/P00260048.tif', '/content/drive/My Drive/Blobdetector/data/P0026/Mask/P00260049.tif', '/content/drive/My Drive/Blobdetector/data/P0026/Mask/P00260050.tif', '/content/drive/My Drive/Blobdetector/data/P0026/Mask/P00260051.tif', '/content/drive/My Drive/Blobdetector/data/P0026/Mask/P00260052.tif', '/content/drive/My Drive/Blobdetector/data/P0026/Mask/P00260053.tif', '/content/drive/My Drive/Blobdetector/data/P0026/Mask/P00260054.tif', '/content/drive/My Drive/Blobdetector/data/P0026/Mask/P00260055.tif', '/content/drive/My Drive/Blobdetector/data/P0026/Mask/P00260056.tif', '/content/drive/My Drive/Blobdetector/data/P0026/Mask/P00260057.tif', '/content/drive/My Drive/Blobdetector/data/P0026/Mask/P00260058.tif', '/content/drive/My Drive/Blobdetector/data/P0026/Mask/P00260059.tif', '/content/drive/My Drive/Blobdetector/data/P0026/Mask/P00260060.tif', '/content/drive/My Drive/Blobdetector/data/P0026/Mask/P00260061.tif', '/content/drive/My Drive/Blobdetector/data/P0026/Mask/P00260062.tif', '/content/drive/My Drive/Blobdetector/data/P0026/Mask/P00260063.tif', '/content/drive/My Drive/Blobdetector/data/P0026/Mask/P00260064.tif', '/content/drive/My Drive/Blobdetector/data/P0026/Mask/P00260065.tif', '/content/drive/My Drive/Blobdetector/data/P0026/Mask/P00260066.tif', '/content/drive/My Drive/Blobdetector/data/P0026/Mask/P00260067.tif', '/content/drive/My Drive/Blobdetector/data/P0026/Mask/P00260068.tif', '/content/drive/My Drive/Blobdetector/data/P0026/Mask/P00260069.tif', '/content/drive/My Drive/Blobdetector/data/P0026/Mask/P00260070.tif', '/content/drive/My Drive/Blobdetector/data/P0026/Mask/P00260071.tif', '/content/drive/My Drive/Blobdetector/data/P0026/Mask/P00260072.tif', '/content/drive/My Drive/Blobdetector/data/P0026/Mask/P00260073.tif', '/content/drive/My Drive/Blobdetector/data/P0026/Mask/P00260074.tif', '/content/drive/My Drive/Blobdetector/data/P0026/Mask/P00260075.tif', '/content/drive/My Drive/Blobdetector/data/P0026/Mask/P00260076.tif', '/content/drive/My Drive/Blobdetector/data/P0026/Mask/P00260077.tif', '/content/drive/My Drive/Blobdetector/data/P0026/Mask/P00260078.tif', '/content/drive/My Drive/Blobdetector/data/P0026/Mask/P00260079.tif', '/content/drive/My Drive/Blobdetector/data/P0026/Mask/P00260080.tif', '/content/drive/My Drive/Blobdetector/data/P0026/Mask/P00260081.tif', '/content/drive/My Drive/Blobdetector/data/P0026/Mask/P00260082.tif', '/content/drive/My Drive/Blobdetector/data/P0026/Mask/P00260083.tif', '/content/drive/My Drive/Blobdetector/data/P0026/Mask/P00260084.tif', '/content/drive/My Drive/Blobdetector/data/P0026/Mask/P00260085.tif', '/content/drive/My Drive/Blobdetector/data/P0026/Mask/P00260086.tif', '/content/drive/My Drive/Blobdetector/data/P0026/Mask/P00260087.tif', '/content/drive/My Drive/Blobdetector/data/P0026/Mask/P00260088.tif', '/content/drive/My Drive/Blobdetector/data/P0026/Mask/P00260089.tif', '/content/drive/My Drive/Blobdetector/data/P0026/Mask/P00260090.tif', '/content/drive/My Drive/Blobdetector/data/P0026/Mask/P00260091.tif', '/content/drive/My Drive/Blobdetector/data/P0026/Mask/P00260092.tif', '/content/drive/My Drive/Blobdetector/data/P0026/Mask/P00260093.tif', '/content/drive/My Drive/Blobdetector/data/P0026/Mask/P00260094.tif', '/content/drive/My Drive/Blobdetector/data/P0026/Mask/P00260095.tif', '/content/drive/My Drive/Blobdetector/data/P0026/Mask/P00260096.tif', '/content/drive/My Drive/Blobdetector/data/P0026/Mask/P00260097.tif', '/content/drive/My Drive/Blobdetector/data/P0026/Mask/P00260098.tif', '/content/drive/My Drive/Blobdetector/data/P0026/Mask/P00260099.tif', '/content/drive/My Drive/Blobdetector/data/P0026/Mask/P00260100.tif', '/content/drive/My Drive/Blobdetector/data/P0026/Mask/P00260101.tif', '/content/drive/My Drive/Blobdetector/data/P0026/Mask/P00260102.tif', '/content/drive/My Drive/Blobdetector/data/P0026/Mask/P00260103.tif', '/content/drive/My Drive/Blobdetector/data/P0026/Mask/P00260104.tif', '/content/drive/My Drive/Blobdetector/data/P0026/Mask/P00260105.tif', '/content/drive/My Drive/Blobdetector/data/P0026/Mask/P00260106.tif', '/content/drive/My Drive/Blobdetector/data/P0026/Mask/P00260107.tif', '/content/drive/My Drive/Blobdetector/data/P0026/Mask/P00260108.tif', '/content/drive/My Drive/Blobdetector/data/P0026/Mask/P00260109.tif', '/content/drive/My Drive/Blobdetector/data/P0026/Mask/P00260110.tif', '/content/drive/My Drive/Blobdetector/data/P0026/Mask/P00260111.tif', '/content/drive/My Drive/Blobdetector/data/P0026/Mask/P00260112.tif', '/content/drive/My Drive/Blobdetector/data/P0026/Mask/P00260113.tif', '/content/drive/My Drive/Blobdetector/data/P0026/Mask/P00260114.tif', '/content/drive/My Drive/Blobdetector/data/P0026/Mask/P00260115.tif', '/content/drive/My Drive/Blobdetector/data/P0026/Mask/P00260116.tif', '/content/drive/My Drive/Blobdetector/data/P0026/Mask/P00260117.tif', '/content/drive/My Drive/Blobdetector/data/P0026/Mask/P00260118.tif', '/content/drive/My Drive/Blobdetector/data/P0026/Mask/P00260119.tif', '/content/drive/My Drive/Blobdetector/data/P0026/Mask/P00260120.tif', '/content/drive/My Drive/Blobdetector/data/P0026/Mask/P00260121.tif', '/content/drive/My Drive/Blobdetector/data/P0026/Mask/P00260122.tif', '/content/drive/My Drive/Blobdetector/data/P0026/Mask/P00260123.tif', '/content/drive/My Drive/Blobdetector/data/P0026/Mask/P00260124.tif', '/content/drive/My Drive/Blobdetector/data/P0026/Mask/P00260125.tif', '/content/drive/My Drive/Blobdetector/data/P0026/Mask/P00260126.tif', '/content/drive/My Drive/Blobdetector/data/P0026/Mask/P00260127.tif', '/content/drive/My Drive/Blobdetector/data/P0026/Mask/P00260128.tif', '/content/drive/My Drive/Blobdetector/data/P0026/Mask/P00260129.tif', '/content/drive/My Drive/Blobdetector/data/P0026/Mask/P00260130.tif', '/content/drive/My Drive/Blobdetector/data/P0026/Mask/P00260131.tif', '/content/drive/My Drive/Blobdetector/data/P0026/Mask/P00260132.tif', '/content/drive/My Drive/Blobdetector/data/P0026/Mask/P00260133.tif', '/content/drive/My Drive/Blobdetector/data/P0026/Mask/P00260134.tif', '/content/drive/My Drive/Blobdetector/data/P0026/Mask/P00260135.tif', '/content/drive/My Drive/Blobdetector/data/P0026/Mask/P00260136.tif', '/content/drive/My Drive/Blobdetector/data/P0026/Mask/P00260137.tif', '/content/drive/My Drive/Blobdetector/data/P0026/Mask/P00260138.tif', '/content/drive/My Drive/Blobdetector/data/P0026/Mask/P00260139.tif', '/content/drive/My Drive/Blobdetector/data/P0026/Mask/P00260140.tif', '/content/drive/My Drive/Blobdetector/data/P0026/Mask/P00260141.tif', '/content/drive/My Drive/Blobdetector/data/P0026/Mask/P00260142.tif', '/content/drive/My Drive/Blobdetector/data/P0026/Mask/P00260143.tif', '/content/drive/My Drive/Blobdetector/data/P0026/Mask/P00260144.tif', '/content/drive/My Drive/Blobdetector/data/P0026/Mask/P00260145.tif', '/content/drive/My Drive/Blobdetector/data/P0026/Mask/P00260146.tif', '/content/drive/My Drive/Blobdetector/data/P0026/Mask/P00260147.tif', '/content/drive/My Drive/Blobdetector/data/P0026/Mask/P00260148.tif', '/content/drive/My Drive/Blobdetector/data/P0026/Mask/P00260149.tif', '/content/drive/My Drive/Blobdetector/data/P0026/Mask/P00260150.tif', '/content/drive/My Drive/Blobdetector/data/P0026/Mask/P00260151.tif', '/content/drive/My Drive/Blobdetector/data/P0026/Mask/P00260152.tif', '/content/drive/My Drive/Blobdetector/data/P0026/Mask/P00260153.tif', '/content/drive/My Drive/Blobdetector/data/P0026/Mask/P00260154.tif', '/content/drive/My Drive/Blobdetector/data/P0026/Mask/P00260155.tif', '/content/drive/My Drive/Blobdetector/data/P0026/Mask/P00260156.tif']\n"
     ]
    }
   ],
   "source": [
    "  # Define the patient id on the next line!!\n",
    "path='/content/drive/My Drive/Blobdetector/data/P0026'  # Put upto patient id\n",
    "maskfile = sorted(glob.glob('%s/Mask/*.tif' % path))\n",
    "\n",
    "# idpath=glob.glob('%s/*' % path)\n",
    "# print(idpath)\n",
    "\n",
    "# for i in idpath:\n",
    "#   directory = os.path.join(i,\"Masknew\")\n",
    "#   if not os.path.exists(directory):\n",
    "#       os.makedirs(directory)\n",
    "\n",
    "directory = os.path.join(path,\"Masknew\")\n",
    "if not os.path.exists(directory):\n",
    "    os.makedirs(directory)\n",
    "\n",
    "masknewpath=glob.glob('%s/Masknew' % path)\n",
    "print(masknewpath)\n",
    "print(maskfile)"
   ]
  },
  {
   "cell_type": "code",
   "execution_count": 33,
   "metadata": {
    "colab": {
     "base_uri": "https://localhost:8080/",
     "height": 34
    },
    "colab_type": "code",
    "executionInfo": {
     "elapsed": 501,
     "status": "ok",
     "timestamp": 1581525895822,
     "user": {
      "displayName": "Sun-Joo Jang",
      "photoUrl": "",
      "userId": "11345995941196038776"
     },
     "user_tz": 300
    },
    "id": "l22xr_h9fBoa",
    "outputId": "3750cf00-91b8-4543-a7de-9111e4c02ac5"
   },
   "outputs": [
    {
     "data": {
      "text/plain": [
       "156"
      ]
     },
     "execution_count": 33,
     "metadata": {
      "tags": []
     },
     "output_type": "execute_result"
    }
   ],
   "source": [
    "len(maskfile)\n",
    "# maskfile[]\n"
   ]
  },
  {
   "cell_type": "code",
   "execution_count": 34,
   "metadata": {
    "colab": {
     "base_uri": "https://localhost:8080/",
     "height": 102
    },
    "colab_type": "code",
    "executionInfo": {
     "elapsed": 539,
     "status": "ok",
     "timestamp": 1581525897516,
     "user": {
      "displayName": "Sun-Joo Jang",
      "photoUrl": "",
      "userId": "11345995941196038776"
     },
     "user_tz": 300
    },
    "id": "aNgtDN3W5KUF",
    "outputId": "9990e098-a3c2-47a1-cb16-3367c1bc269f"
   },
   "outputs": [
    {
     "name": "stdout",
     "output_type": "stream",
     "text": [
      "/content/drive/My Drive/Blobdetector/data/P0026/Mask/P00260001.tif\n",
      "/content/drive/My Drive/Blobdetector/data/P0026/Masknew\n",
      "/content/drive/My Drive/Blobdetector/data/P0026/Mask\n",
      "P00260001.tif\n",
      "/content/drive/My Drive/Blobdetector/data/P0026/Masknew/P00260001_01.tif\n"
     ]
    }
   ],
   "source": [
    "mask1path= maskfile[0]  #single mask image path\n",
    "print(mask1path)\n",
    "print(masknewpath[0])\n",
    "head_tail = os.path.split(mask1path)\n",
    "base=head_tail[1]\n",
    "print(head_tail[0])\n",
    "print(head_tail[1])\n",
    "basename=os.path.splitext(base)[0]\n",
    "test= os.path.join(masknewpath[0],basename+\"_\"+\"01\"+\".tif\")\n",
    "print(test)"
   ]
  },
  {
   "cell_type": "code",
   "execution_count": 35,
   "metadata": {
    "colab": {
     "base_uri": "https://localhost:8080/",
     "height": 1000
    },
    "colab_type": "code",
    "executionInfo": {
     "elapsed": 87745,
     "status": "ok",
     "timestamp": 1581525988001,
     "user": {
      "displayName": "Sun-Joo Jang",
      "photoUrl": "",
      "userId": "11345995941196038776"
     },
     "user_tz": 300
    },
    "id": "Q--T8CxIXjzP",
    "outputId": "18d1d563-5c92-44c6-d16e-d1da4446d456"
   },
   "outputs": [
    {
     "name": "stdout",
     "output_type": "stream",
     "text": [
      "/content/drive/My Drive/Blobdetector/data/P0026/Mask/P00260001.tif\n",
      "/content/drive/My Drive/Blobdetector/data/P0026/Mask/P00260002.tif\n",
      "/content/drive/My Drive/Blobdetector/data/P0026/Mask/P00260003.tif\n",
      "/content/drive/My Drive/Blobdetector/data/P0026/Mask/P00260004.tif\n",
      "/content/drive/My Drive/Blobdetector/data/P0026/Mask/P00260005.tif\n",
      "/content/drive/My Drive/Blobdetector/data/P0026/Mask/P00260006.tif\n",
      "/content/drive/My Drive/Blobdetector/data/P0026/Mask/P00260007.tif\n",
      "/content/drive/My Drive/Blobdetector/data/P0026/Mask/P00260008.tif\n",
      "/content/drive/My Drive/Blobdetector/data/P0026/Mask/P00260009.tif\n",
      "/content/drive/My Drive/Blobdetector/data/P0026/Mask/P00260010.tif\n",
      "/content/drive/My Drive/Blobdetector/data/P0026/Mask/P00260011.tif\n",
      "/content/drive/My Drive/Blobdetector/data/P0026/Mask/P00260012.tif\n",
      "/content/drive/My Drive/Blobdetector/data/P0026/Mask/P00260013.tif\n",
      "/content/drive/My Drive/Blobdetector/data/P0026/Mask/P00260014.tif\n",
      "/content/drive/My Drive/Blobdetector/data/P0026/Mask/P00260015.tif\n",
      "/content/drive/My Drive/Blobdetector/data/P0026/Mask/P00260016.tif\n",
      "/content/drive/My Drive/Blobdetector/data/P0026/Mask/P00260017.tif\n",
      "/content/drive/My Drive/Blobdetector/data/P0026/Mask/P00260018.tif\n",
      "/content/drive/My Drive/Blobdetector/data/P0026/Mask/P00260019.tif\n",
      "/content/drive/My Drive/Blobdetector/data/P0026/Mask/P00260020.tif\n",
      "/content/drive/My Drive/Blobdetector/data/P0026/Mask/P00260021.tif\n",
      "/content/drive/My Drive/Blobdetector/data/P0026/Mask/P00260022.tif\n",
      "/content/drive/My Drive/Blobdetector/data/P0026/Mask/P00260023.tif\n",
      "/content/drive/My Drive/Blobdetector/data/P0026/Mask/P00260024.tif\n",
      "/content/drive/My Drive/Blobdetector/data/P0026/Mask/P00260025.tif\n",
      "/content/drive/My Drive/Blobdetector/data/P0026/Mask/P00260026.tif\n",
      "/content/drive/My Drive/Blobdetector/data/P0026/Mask/P00260027.tif\n",
      "/content/drive/My Drive/Blobdetector/data/P0026/Mask/P00260028.tif\n",
      "/content/drive/My Drive/Blobdetector/data/P0026/Mask/P00260029.tif\n",
      "/content/drive/My Drive/Blobdetector/data/P0026/Mask/P00260030.tif\n",
      "/content/drive/My Drive/Blobdetector/data/P0026/Mask/P00260031.tif\n",
      "/content/drive/My Drive/Blobdetector/data/P0026/Mask/P00260032.tif\n",
      "/content/drive/My Drive/Blobdetector/data/P0026/Mask/P00260033.tif\n",
      "/content/drive/My Drive/Blobdetector/data/P0026/Mask/P00260034.tif\n",
      "/content/drive/My Drive/Blobdetector/data/P0026/Mask/P00260035.tif\n",
      "/content/drive/My Drive/Blobdetector/data/P0026/Mask/P00260036.tif\n",
      "/content/drive/My Drive/Blobdetector/data/P0026/Mask/P00260037.tif\n",
      "/content/drive/My Drive/Blobdetector/data/P0026/Mask/P00260038.tif\n",
      "/content/drive/My Drive/Blobdetector/data/P0026/Mask/P00260039.tif\n",
      "/content/drive/My Drive/Blobdetector/data/P0026/Mask/P00260040.tif\n",
      "/content/drive/My Drive/Blobdetector/data/P0026/Mask/P00260041.tif\n",
      "/content/drive/My Drive/Blobdetector/data/P0026/Mask/P00260042.tif\n",
      "/content/drive/My Drive/Blobdetector/data/P0026/Mask/P00260043.tif\n",
      "/content/drive/My Drive/Blobdetector/data/P0026/Mask/P00260044.tif\n",
      "/content/drive/My Drive/Blobdetector/data/P0026/Mask/P00260045.tif\n",
      "/content/drive/My Drive/Blobdetector/data/P0026/Mask/P00260046.tif\n",
      "/content/drive/My Drive/Blobdetector/data/P0026/Mask/P00260047.tif\n",
      "/content/drive/My Drive/Blobdetector/data/P0026/Mask/P00260048.tif\n",
      "/content/drive/My Drive/Blobdetector/data/P0026/Mask/P00260049.tif\n",
      "/content/drive/My Drive/Blobdetector/data/P0026/Mask/P00260050.tif\n",
      "/content/drive/My Drive/Blobdetector/data/P0026/Mask/P00260051.tif\n",
      "/content/drive/My Drive/Blobdetector/data/P0026/Mask/P00260052.tif\n",
      "/content/drive/My Drive/Blobdetector/data/P0026/Mask/P00260053.tif\n",
      "/content/drive/My Drive/Blobdetector/data/P0026/Mask/P00260054.tif\n",
      "/content/drive/My Drive/Blobdetector/data/P0026/Mask/P00260055.tif\n",
      "/content/drive/My Drive/Blobdetector/data/P0026/Mask/P00260056.tif\n",
      "/content/drive/My Drive/Blobdetector/data/P0026/Mask/P00260057.tif\n",
      "/content/drive/My Drive/Blobdetector/data/P0026/Mask/P00260058.tif\n",
      "/content/drive/My Drive/Blobdetector/data/P0026/Mask/P00260059.tif\n",
      "/content/drive/My Drive/Blobdetector/data/P0026/Mask/P00260060.tif\n",
      "/content/drive/My Drive/Blobdetector/data/P0026/Mask/P00260061.tif\n",
      "/content/drive/My Drive/Blobdetector/data/P0026/Mask/P00260062.tif\n",
      "/content/drive/My Drive/Blobdetector/data/P0026/Mask/P00260063.tif\n",
      "/content/drive/My Drive/Blobdetector/data/P0026/Mask/P00260064.tif\n",
      "/content/drive/My Drive/Blobdetector/data/P0026/Mask/P00260065.tif\n",
      "/content/drive/My Drive/Blobdetector/data/P0026/Mask/P00260066.tif\n",
      "/content/drive/My Drive/Blobdetector/data/P0026/Mask/P00260067.tif\n",
      "/content/drive/My Drive/Blobdetector/data/P0026/Mask/P00260068.tif\n",
      "/content/drive/My Drive/Blobdetector/data/P0026/Mask/P00260069.tif\n",
      "/content/drive/My Drive/Blobdetector/data/P0026/Mask/P00260070.tif\n",
      "/content/drive/My Drive/Blobdetector/data/P0026/Mask/P00260071.tif\n",
      "/content/drive/My Drive/Blobdetector/data/P0026/Mask/P00260072.tif\n",
      "/content/drive/My Drive/Blobdetector/data/P0026/Mask/P00260073.tif\n",
      "/content/drive/My Drive/Blobdetector/data/P0026/Mask/P00260074.tif\n",
      "/content/drive/My Drive/Blobdetector/data/P0026/Mask/P00260075.tif\n",
      "/content/drive/My Drive/Blobdetector/data/P0026/Mask/P00260076.tif\n",
      "/content/drive/My Drive/Blobdetector/data/P0026/Mask/P00260077.tif\n",
      "/content/drive/My Drive/Blobdetector/data/P0026/Mask/P00260078.tif\n",
      "/content/drive/My Drive/Blobdetector/data/P0026/Mask/P00260079.tif\n",
      "/content/drive/My Drive/Blobdetector/data/P0026/Mask/P00260080.tif\n",
      "/content/drive/My Drive/Blobdetector/data/P0026/Mask/P00260081.tif\n",
      "/content/drive/My Drive/Blobdetector/data/P0026/Mask/P00260082.tif\n",
      "/content/drive/My Drive/Blobdetector/data/P0026/Mask/P00260083.tif\n",
      "/content/drive/My Drive/Blobdetector/data/P0026/Mask/P00260084.tif\n",
      "/content/drive/My Drive/Blobdetector/data/P0026/Mask/P00260085.tif\n",
      "/content/drive/My Drive/Blobdetector/data/P0026/Mask/P00260086.tif\n",
      "/content/drive/My Drive/Blobdetector/data/P0026/Mask/P00260087.tif\n",
      "/content/drive/My Drive/Blobdetector/data/P0026/Mask/P00260088.tif\n",
      "/content/drive/My Drive/Blobdetector/data/P0026/Mask/P00260089.tif\n",
      "/content/drive/My Drive/Blobdetector/data/P0026/Mask/P00260090.tif\n",
      "/content/drive/My Drive/Blobdetector/data/P0026/Mask/P00260091.tif\n",
      "/content/drive/My Drive/Blobdetector/data/P0026/Mask/P00260092.tif\n",
      "/content/drive/My Drive/Blobdetector/data/P0026/Mask/P00260093.tif\n",
      "/content/drive/My Drive/Blobdetector/data/P0026/Mask/P00260094.tif\n",
      "/content/drive/My Drive/Blobdetector/data/P0026/Mask/P00260095.tif\n",
      "/content/drive/My Drive/Blobdetector/data/P0026/Mask/P00260096.tif\n",
      "/content/drive/My Drive/Blobdetector/data/P0026/Mask/P00260097.tif\n",
      "/content/drive/My Drive/Blobdetector/data/P0026/Mask/P00260098.tif\n",
      "/content/drive/My Drive/Blobdetector/data/P0026/Mask/P00260099.tif\n",
      "/content/drive/My Drive/Blobdetector/data/P0026/Mask/P00260100.tif\n",
      "/content/drive/My Drive/Blobdetector/data/P0026/Mask/P00260101.tif\n",
      "/content/drive/My Drive/Blobdetector/data/P0026/Mask/P00260102.tif\n",
      "/content/drive/My Drive/Blobdetector/data/P0026/Mask/P00260103.tif\n",
      "/content/drive/My Drive/Blobdetector/data/P0026/Mask/P00260104.tif\n",
      "/content/drive/My Drive/Blobdetector/data/P0026/Mask/P00260105.tif\n",
      "/content/drive/My Drive/Blobdetector/data/P0026/Mask/P00260106.tif\n",
      "/content/drive/My Drive/Blobdetector/data/P0026/Mask/P00260107.tif\n",
      "/content/drive/My Drive/Blobdetector/data/P0026/Mask/P00260108.tif\n",
      "/content/drive/My Drive/Blobdetector/data/P0026/Mask/P00260109.tif\n",
      "/content/drive/My Drive/Blobdetector/data/P0026/Mask/P00260110.tif\n",
      "/content/drive/My Drive/Blobdetector/data/P0026/Mask/P00260111.tif\n",
      "/content/drive/My Drive/Blobdetector/data/P0026/Mask/P00260112.tif\n",
      "/content/drive/My Drive/Blobdetector/data/P0026/Mask/P00260113.tif\n",
      "/content/drive/My Drive/Blobdetector/data/P0026/Mask/P00260114.tif\n",
      "/content/drive/My Drive/Blobdetector/data/P0026/Mask/P00260115.tif\n",
      "/content/drive/My Drive/Blobdetector/data/P0026/Mask/P00260116.tif\n",
      "/content/drive/My Drive/Blobdetector/data/P0026/Mask/P00260117.tif\n",
      "/content/drive/My Drive/Blobdetector/data/P0026/Mask/P00260118.tif\n",
      "/content/drive/My Drive/Blobdetector/data/P0026/Mask/P00260119.tif\n",
      "/content/drive/My Drive/Blobdetector/data/P0026/Mask/P00260120.tif\n",
      "/content/drive/My Drive/Blobdetector/data/P0026/Mask/P00260121.tif\n",
      "/content/drive/My Drive/Blobdetector/data/P0026/Mask/P00260122.tif\n",
      "/content/drive/My Drive/Blobdetector/data/P0026/Mask/P00260123.tif\n",
      "/content/drive/My Drive/Blobdetector/data/P0026/Mask/P00260124.tif\n",
      "/content/drive/My Drive/Blobdetector/data/P0026/Mask/P00260125.tif\n",
      "/content/drive/My Drive/Blobdetector/data/P0026/Mask/P00260126.tif\n",
      "/content/drive/My Drive/Blobdetector/data/P0026/Mask/P00260127.tif\n",
      "/content/drive/My Drive/Blobdetector/data/P0026/Mask/P00260128.tif\n",
      "/content/drive/My Drive/Blobdetector/data/P0026/Mask/P00260129.tif\n",
      "/content/drive/My Drive/Blobdetector/data/P0026/Mask/P00260130.tif\n",
      "/content/drive/My Drive/Blobdetector/data/P0026/Mask/P00260131.tif\n",
      "/content/drive/My Drive/Blobdetector/data/P0026/Mask/P00260132.tif\n",
      "/content/drive/My Drive/Blobdetector/data/P0026/Mask/P00260133.tif\n",
      "/content/drive/My Drive/Blobdetector/data/P0026/Mask/P00260134.tif\n",
      "/content/drive/My Drive/Blobdetector/data/P0026/Mask/P00260135.tif\n",
      "/content/drive/My Drive/Blobdetector/data/P0026/Mask/P00260136.tif\n",
      "/content/drive/My Drive/Blobdetector/data/P0026/Mask/P00260137.tif\n",
      "/content/drive/My Drive/Blobdetector/data/P0026/Mask/P00260138.tif\n",
      "/content/drive/My Drive/Blobdetector/data/P0026/Mask/P00260139.tif\n",
      "/content/drive/My Drive/Blobdetector/data/P0026/Mask/P00260140.tif\n",
      "/content/drive/My Drive/Blobdetector/data/P0026/Mask/P00260141.tif\n",
      "/content/drive/My Drive/Blobdetector/data/P0026/Mask/P00260142.tif\n",
      "/content/drive/My Drive/Blobdetector/data/P0026/Mask/P00260143.tif\n",
      "/content/drive/My Drive/Blobdetector/data/P0026/Mask/P00260144.tif\n",
      "/content/drive/My Drive/Blobdetector/data/P0026/Mask/P00260145.tif\n",
      "/content/drive/My Drive/Blobdetector/data/P0026/Mask/P00260146.tif\n",
      "/content/drive/My Drive/Blobdetector/data/P0026/Mask/P00260147.tif\n",
      "/content/drive/My Drive/Blobdetector/data/P0026/Mask/P00260148.tif\n",
      "/content/drive/My Drive/Blobdetector/data/P0026/Mask/P00260149.tif\n",
      "/content/drive/My Drive/Blobdetector/data/P0026/Mask/P00260150.tif\n",
      "/content/drive/My Drive/Blobdetector/data/P0026/Mask/P00260151.tif\n",
      "/content/drive/My Drive/Blobdetector/data/P0026/Mask/P00260152.tif\n",
      "/content/drive/My Drive/Blobdetector/data/P0026/Mask/P00260153.tif\n",
      "/content/drive/My Drive/Blobdetector/data/P0026/Mask/P00260154.tif\n",
      "/content/drive/My Drive/Blobdetector/data/P0026/Mask/P00260155.tif\n",
      "/content/drive/My Drive/Blobdetector/data/P0026/Mask/P00260156.tif\n"
     ]
    }
   ],
   "source": [
    "for j in range(0,len(maskfile)):  \n",
    "  mask1path= maskfile[j]  #single mask image path\n",
    "  print(mask1path)\n",
    "  mask1=cv2.imread(mask1path, cv2.IMREAD_GRAYSCALE)\n",
    "  # h,w=mask1.shape\n",
    "  head_tail= os.path.split(mask1path)\n",
    "  base=head_tail[1]\n",
    "  basename=os.path.splitext(base)[0]\n",
    "  #Get Contours\n",
    "  ret, thresh = cv2.threshold(mask1, 127, 255, 0)\n",
    "  contours, hierarchy = cv2.findContours(thresh, cv2.RETR_TREE, cv2.CHAIN_APPROX_SIMPLE)\n",
    "  contoursnew = []\n",
    "  for cnt in contours:\n",
    "    if cv2.contourArea(cnt)>5000:\n",
    "      contoursnew.append(cnt)\n",
    "\n",
    "  # calculate area and filter into new array\n",
    "  for i in range(0,len(contoursnew)):\n",
    "    imnum=i+1\n",
    "    img = np.zeros( (512,512))\n",
    "    cv2.fillPoly(img, [contoursnew[i]], 255)\n",
    "    im = Image.fromarray(img.astype(np.uint8))\n",
    "    #cv2.imwrite(os.path.join(masknewpath[0],basename+\"_\"+str(imnum)+\".tif\"),img)\n",
    "    im.save(os.path.join(masknewpath[0],basename+\"_\"+str(imnum)+\".tif\"))  #32bit\n",
    "\n",
    "# newmaskfiles = sorted(glob.glob('%s/*.tif' % masknewpath[0]))\n",
    "# print(\"total new masks number: \",len(newmaskfiles))"
   ]
  },
  {
   "cell_type": "code",
   "execution_count": 31,
   "metadata": {
    "colab": {
     "base_uri": "https://localhost:8080/",
     "height": 34
    },
    "colab_type": "code",
    "executionInfo": {
     "elapsed": 911,
     "status": "ok",
     "timestamp": 1581525854603,
     "user": {
      "displayName": "Sun-Joo Jang",
      "photoUrl": "",
      "userId": "11345995941196038776"
     },
     "user_tz": 300
    },
    "id": "Q2brhILI94-V",
    "outputId": "0a4af4a7-037d-4611-e1a9-e51b72632a8b"
   },
   "outputs": [
    {
     "name": "stdout",
     "output_type": "stream",
     "text": [
      "total new masks number:  105\n"
     ]
    }
   ],
   "source": [
    "newmaskfiles = glob.glob('%s/*' % masknewpath[0])\n",
    "print(\"total new masks number: \",len(newmaskfiles))\n"
   ]
  },
  {
   "cell_type": "code",
   "execution_count": 0,
   "metadata": {
    "colab": {
     "base_uri": "https://localhost:8080/",
     "height": 503
    },
    "colab_type": "code",
    "executionInfo": {
     "elapsed": 717,
     "status": "ok",
     "timestamp": 1580139434880,
     "user": {
      "displayName": "Sun-Joo Jang",
      "photoUrl": "",
      "userId": "11345995941196038776"
     },
     "user_tz": 300
    },
    "id": "74rPjRd5gnAP",
    "outputId": "1d04c3d1-319f-4cd9-c889-4a111c932905"
   },
   "outputs": [
    {
     "name": "stdout",
     "output_type": "stream",
     "text": [
      "mask files are: ['/content/drive/My Drive/Blobdetector/data/P0016/Mask/P0016-ALL-0004.tif', '/content/drive/My Drive/Blobdetector/data/P0016/Mask/P0016-ALL-0003.tif', '/content/drive/My Drive/Blobdetector/data/P0016/Mask/P0016-ALL-0005.tif', '/content/drive/My Drive/Blobdetector/data/P0016/Mask/P0016-ALL-0002.tif', '/content/drive/My Drive/Blobdetector/data/P0016/Mask/P0016-ALL-0001.tif', '/content/drive/My Drive/Blobdetector/data/P0016/Mask/P0016-ALL-0011.tif', '/content/drive/My Drive/Blobdetector/data/P0016/Mask/P0016-ALL-0006.tif', '/content/drive/My Drive/Blobdetector/data/P0016/Mask/P0016-ALL-0010.tif', '/content/drive/My Drive/Blobdetector/data/P0016/Mask/P0016-ALL-0009.tif', '/content/drive/My Drive/Blobdetector/data/P0016/Mask/P0016-ALL-0007.tif', '/content/drive/My Drive/Blobdetector/data/P0016/Mask/P0016-ALL-0015.tif', '/content/drive/My Drive/Blobdetector/data/P0016/Mask/P0016-ALL-0012.tif', '/content/drive/My Drive/Blobdetector/data/P0016/Mask/P0016-ALL-0014.tif', '/content/drive/My Drive/Blobdetector/data/P0016/Mask/P0016-ALL-0013.tif', '/content/drive/My Drive/Blobdetector/data/P0016/Mask/P0016-ALL-0008.tif', '/content/drive/My Drive/Blobdetector/data/P0016/Mask/P0016-ALL-0016.tif', '/content/drive/My Drive/Blobdetector/data/P0016/Mask/P0016-ALL-0018.tif', '/content/drive/My Drive/Blobdetector/data/P0016/Mask/P0016-ALL-0017.tif', '/content/drive/My Drive/Blobdetector/data/P0016/Mask/P0016-ALL-0020.tif', '/content/drive/My Drive/Blobdetector/data/P0016/Mask/P0016-ALL-0022.tif', '/content/drive/My Drive/Blobdetector/data/P0016/Mask/P0016-ALL-0021.tif', '/content/drive/My Drive/Blobdetector/data/P0016/Mask/P0016-ALL-0019.tif', '/content/drive/My Drive/Blobdetector/data/P0016/Mask/P0016-ALL-0024.tif', '/content/drive/My Drive/Blobdetector/data/P0016/Mask/P0016-ALL-0025.tif', '/content/drive/My Drive/Blobdetector/data/P0016/Mask/P0016-ALL-0023.tif', '/content/drive/My Drive/Blobdetector/data/P0016/Mask/P0016-ALL-0026.tif', '/content/drive/My Drive/Blobdetector/data/P0016/Mask/P0016-ALL-0034.tif', '/content/drive/My Drive/Blobdetector/data/P0016/Mask/P0016-ALL-0033.tif', '/content/drive/My Drive/Blobdetector/data/P0016/Mask/P0016-ALL-0031.tif', '/content/drive/My Drive/Blobdetector/data/P0016/Mask/P0016-ALL-0035.tif', '/content/drive/My Drive/Blobdetector/data/P0016/Mask/P0016-ALL-0028.tif', '/content/drive/My Drive/Blobdetector/data/P0016/Mask/P0016-ALL-0030.tif', '/content/drive/My Drive/Blobdetector/data/P0016/Mask/P0016-ALL-0029.tif', '/content/drive/My Drive/Blobdetector/data/P0016/Mask/P0016-ALL-0027.tif', '/content/drive/My Drive/Blobdetector/data/P0016/Mask/P0016-ALL-0032.tif', '/content/drive/My Drive/Blobdetector/data/P0016/Mask/P0016-ALL-0036.tif', '/content/drive/My Drive/Blobdetector/data/P0016/Mask/P0016-ALL-0042.tif', '/content/drive/My Drive/Blobdetector/data/P0016/Mask/P0016-ALL-0037.tif', '/content/drive/My Drive/Blobdetector/data/P0016/Mask/P0016-ALL-0038.tif', '/content/drive/My Drive/Blobdetector/data/P0016/Mask/P0016-ALL-0040.tif', '/content/drive/My Drive/Blobdetector/data/P0016/Mask/P0016-ALL-0039.tif', '/content/drive/My Drive/Blobdetector/data/P0016/Mask/P0016-ALL-0045.tif', '/content/drive/My Drive/Blobdetector/data/P0016/Mask/P0016-ALL-0044.tif', '/content/drive/My Drive/Blobdetector/data/P0016/Mask/P0016-ALL-0041.tif', '/content/drive/My Drive/Blobdetector/data/P0016/Mask/P0016-ALL-0043.tif', '/content/drive/My Drive/Blobdetector/data/P0016/Mask/P0016-ALL-0046.tif', '/content/drive/My Drive/Blobdetector/data/P0016/Mask/P0016-ALL-0051.tif', '/content/drive/My Drive/Blobdetector/data/P0016/Mask/P0016-ALL-0048.tif', '/content/drive/My Drive/Blobdetector/data/P0016/Mask/P0016-ALL-0047.tif', '/content/drive/My Drive/Blobdetector/data/P0016/Mask/P0016-ALL-0054.tif', '/content/drive/My Drive/Blobdetector/data/P0016/Mask/P0016-ALL-0052.tif', '/content/drive/My Drive/Blobdetector/data/P0016/Mask/P0016-ALL-0050.tif', '/content/drive/My Drive/Blobdetector/data/P0016/Mask/P0016-ALL-0055.tif', '/content/drive/My Drive/Blobdetector/data/P0016/Mask/P0016-ALL-0053.tif', '/content/drive/My Drive/Blobdetector/data/P0016/Mask/P0016-ALL-0049.tif', '/content/drive/My Drive/Blobdetector/data/P0016/Mask/P0016-ALL-0056.tif', '/content/drive/My Drive/Blobdetector/data/P0016/Mask/P0016-ALL-0058.tif', '/content/drive/My Drive/Blobdetector/data/P0016/Mask/P0016-ALL-0061.tif', '/content/drive/My Drive/Blobdetector/data/P0016/Mask/P0016-ALL-0060.tif', '/content/drive/My Drive/Blobdetector/data/P0016/Mask/P0016-ALL-0063.tif', '/content/drive/My Drive/Blobdetector/data/P0016/Mask/P0016-ALL-0065.tif', '/content/drive/My Drive/Blobdetector/data/P0016/Mask/P0016-ALL-0057.tif', '/content/drive/My Drive/Blobdetector/data/P0016/Mask/P0016-ALL-0059.tif', '/content/drive/My Drive/Blobdetector/data/P0016/Mask/P0016-ALL-0064.tif', '/content/drive/My Drive/Blobdetector/data/P0016/Mask/P0016-ALL-0062.tif', '/content/drive/My Drive/Blobdetector/data/P0016/Mask/P0016-ALL-0066.tif', '/content/drive/My Drive/Blobdetector/data/P0016/Mask/P0016-ALL-0072.tif', '/content/drive/My Drive/Blobdetector/data/P0016/Mask/P0016-ALL-0068.tif', '/content/drive/My Drive/Blobdetector/data/P0016/Mask/P0016-ALL-0070.tif', '/content/drive/My Drive/Blobdetector/data/P0016/Mask/P0016-ALL-0075.tif', '/content/drive/My Drive/Blobdetector/data/P0016/Mask/P0016-ALL-0074.tif', '/content/drive/My Drive/Blobdetector/data/P0016/Mask/P0016-ALL-0069.tif', '/content/drive/My Drive/Blobdetector/data/P0016/Mask/P0016-ALL-0073.tif', '/content/drive/My Drive/Blobdetector/data/P0016/Mask/P0016-ALL-0071.tif', '/content/drive/My Drive/Blobdetector/data/P0016/Mask/P0016-ALL-0067.tif', '/content/drive/My Drive/Blobdetector/data/P0016/Mask/P0016-ALL-0076.tif', '/content/drive/My Drive/Blobdetector/data/P0016/Mask/P0016-ALL-0083.tif', '/content/drive/My Drive/Blobdetector/data/P0016/Mask/P0016-ALL-0080.tif', '/content/drive/My Drive/Blobdetector/data/P0016/Mask/P0016-ALL-0084.tif', '/content/drive/My Drive/Blobdetector/data/P0016/Mask/P0016-ALL-0077.tif', '/content/drive/My Drive/Blobdetector/data/P0016/Mask/P0016-ALL-0082.tif', '/content/drive/My Drive/Blobdetector/data/P0016/Mask/P0016-ALL-0078.tif', '/content/drive/My Drive/Blobdetector/data/P0016/Mask/P0016-ALL-0081.tif', '/content/drive/My Drive/Blobdetector/data/P0016/Mask/P0016-ALL-0079.tif', '/content/drive/My Drive/Blobdetector/data/P0016/Mask/P0016-ALL-0085.tif', '/content/drive/My Drive/Blobdetector/data/P0016/Mask/P0016-ALL-0088.tif', '/content/drive/My Drive/Blobdetector/data/P0016/Mask/P0016-ALL-0086.tif', '/content/drive/My Drive/Blobdetector/data/P0016/Mask/P0016-ALL-0090.tif', '/content/drive/My Drive/Blobdetector/data/P0016/Mask/P0016-ALL-0089.tif', '/content/drive/My Drive/Blobdetector/data/P0016/Mask/P0016-ALL-0093.tif', '/content/drive/My Drive/Blobdetector/data/P0016/Mask/P0016-ALL-0091.tif', '/content/drive/My Drive/Blobdetector/data/P0016/Mask/P0016-ALL-0092.tif', '/content/drive/My Drive/Blobdetector/data/P0016/Mask/P0016-ALL-0095.tif', '/content/drive/My Drive/Blobdetector/data/P0016/Mask/P0016-ALL-0087.tif', '/content/drive/My Drive/Blobdetector/data/P0016/Mask/P0016-ALL-0094.tif', '/content/drive/My Drive/Blobdetector/data/P0016/Mask/P0016-ALL-0096.tif', '/content/drive/My Drive/Blobdetector/data/P0016/Mask/P0016-ALL-0097.tif', '/content/drive/My Drive/Blobdetector/data/P0016/Mask/P0016-ALL-0102.tif', '/content/drive/My Drive/Blobdetector/data/P0016/Mask/P0016-ALL-0101.tif', '/content/drive/My Drive/Blobdetector/data/P0016/Mask/P0016-ALL-0103.tif', '/content/drive/My Drive/Blobdetector/data/P0016/Mask/P0016-ALL-0099.tif', '/content/drive/My Drive/Blobdetector/data/P0016/Mask/P0016-ALL-0100.tif', '/content/drive/My Drive/Blobdetector/data/P0016/Mask/P0016-ALL-0104.tif', '/content/drive/My Drive/Blobdetector/data/P0016/Mask/P0016-ALL-0105.tif', '/content/drive/My Drive/Blobdetector/data/P0016/Mask/P0016-ALL-0098.tif', '/content/drive/My Drive/Blobdetector/data/P0016/Mask/P0016-ALL-0106.tif', '/content/drive/My Drive/Blobdetector/data/P0016/Mask/P0016-ALL-0110.tif', '/content/drive/My Drive/Blobdetector/data/P0016/Mask/P0016-ALL-0107.tif', '/content/drive/My Drive/Blobdetector/data/P0016/Mask/P0016-ALL-0114.tif', '/content/drive/My Drive/Blobdetector/data/P0016/Mask/P0016-ALL-0112.tif', '/content/drive/My Drive/Blobdetector/data/P0016/Mask/P0016-ALL-0113.tif', '/content/drive/My Drive/Blobdetector/data/P0016/Mask/P0016-ALL-0108.tif', '/content/drive/My Drive/Blobdetector/data/P0016/Mask/P0016-ALL-0115.tif', '/content/drive/My Drive/Blobdetector/data/P0016/Mask/P0016-ALL-0109.tif', '/content/drive/My Drive/Blobdetector/data/P0016/Mask/P0016-ALL-0111.tif', '/content/drive/My Drive/Blobdetector/data/P0016/Mask/P0016-ALL-0116.tif', '/content/drive/My Drive/Blobdetector/data/P0016/Mask/P0016-ALL-0122.tif', '/content/drive/My Drive/Blobdetector/data/P0016/Mask/P0016-ALL-0123.tif', '/content/drive/My Drive/Blobdetector/data/P0016/Mask/P0016-ALL-0121.tif', '/content/drive/My Drive/Blobdetector/data/P0016/Mask/P0016-ALL-0117.tif', '/content/drive/My Drive/Blobdetector/data/P0016/Mask/P0016-ALL-0125.tif', '/content/drive/My Drive/Blobdetector/data/P0016/Mask/P0016-ALL-0119.tif', '/content/drive/My Drive/Blobdetector/data/P0016/Mask/P0016-ALL-0124.tif', '/content/drive/My Drive/Blobdetector/data/P0016/Mask/P0016-ALL-0118.tif', '/content/drive/My Drive/Blobdetector/data/P0016/Mask/P0016-ALL-0120.tif', '/content/drive/My Drive/Blobdetector/data/P0016/Mask/P0016-ALL-0126.tif', '/content/drive/My Drive/Blobdetector/data/P0016/Mask/P0016-ALL-0131.tif', '/content/drive/My Drive/Blobdetector/data/P0016/Mask/P0016-ALL-0132.tif', '/content/drive/My Drive/Blobdetector/data/P0016/Mask/P0016-ALL-0135.tif', '/content/drive/My Drive/Blobdetector/data/P0016/Mask/P0016-ALL-0128.tif', '/content/drive/My Drive/Blobdetector/data/P0016/Mask/P0016-ALL-0130.tif', '/content/drive/My Drive/Blobdetector/data/P0016/Mask/P0016-ALL-0129.tif', '/content/drive/My Drive/Blobdetector/data/P0016/Mask/P0016-ALL-0134.tif', '/content/drive/My Drive/Blobdetector/data/P0016/Mask/P0016-ALL-0133.tif', '/content/drive/My Drive/Blobdetector/data/P0016/Mask/P0016-ALL-0127.tif', '/content/drive/My Drive/Blobdetector/data/P0016/Mask/P0016-ALL-0136.tif', '/content/drive/My Drive/Blobdetector/data/P0016/Mask/P0016-ALL-0138.tif', '/content/drive/My Drive/Blobdetector/data/P0016/Mask/P0016-ALL-0140.tif', '/content/drive/My Drive/Blobdetector/data/P0016/Mask/P0016-ALL-0143.tif', '/content/drive/My Drive/Blobdetector/data/P0016/Mask/P0016-ALL-0141.tif', '/content/drive/My Drive/Blobdetector/data/P0016/Mask/P0016-ALL-0145.tif', '/content/drive/My Drive/Blobdetector/data/P0016/Mask/P0016-ALL-0142.tif', '/content/drive/My Drive/Blobdetector/data/P0016/Mask/P0016-ALL-0139.tif', '/content/drive/My Drive/Blobdetector/data/P0016/Mask/P0016-ALL-0137.tif', '/content/drive/My Drive/Blobdetector/data/P0016/Mask/P0016-ALL-0144.tif', '/content/drive/My Drive/Blobdetector/data/P0016/Mask/P0016-ALL-0147.tif', '/content/drive/My Drive/Blobdetector/data/P0016/Mask/P0016-ALL-0146.tif', '/content/drive/My Drive/Blobdetector/data/P0016/Mask/P0016-ALL-0149.tif', '/content/drive/My Drive/Blobdetector/data/P0016/Mask/P0016-ALL-0153.tif', '/content/drive/My Drive/Blobdetector/data/P0016/Mask/P0016-ALL-0151.tif', '/content/drive/My Drive/Blobdetector/data/P0016/Mask/P0016-ALL-0150.tif', '/content/drive/My Drive/Blobdetector/data/P0016/Mask/P0016-ALL-0155.tif', '/content/drive/My Drive/Blobdetector/data/P0016/Mask/P0016-ALL-0152.tif', '/content/drive/My Drive/Blobdetector/data/P0016/Mask/P0016-ALL-0148.tif', '/content/drive/My Drive/Blobdetector/data/P0016/Mask/P0016-ALL-0154.tif', '/content/drive/My Drive/Blobdetector/data/P0016/Mask/P0016-ALL-0156.tif', '/content/drive/My Drive/Blobdetector/data/P0016/Mask/P0016-ALL-0159.tif', '/content/drive/My Drive/Blobdetector/data/P0016/Mask/P0016-ALL-0160.tif', '/content/drive/My Drive/Blobdetector/data/P0016/Mask/P0016-ALL-0157.tif', '/content/drive/My Drive/Blobdetector/data/P0016/Mask/P0016-ALL-0161.tif', '/content/drive/My Drive/Blobdetector/data/P0016/Mask/P0016-ALL-0158.tif']\n",
      "Number of images: 161\n",
      "/content/drive/My Drive/Blobdetector/data/P0016/Mask/P0016-ALL-0004.tif\n"
     ]
    },
    {
     "data": {
      "image/png": "[encoded data removed]",
      "text/plain": [
       "<Figure size 504x504 with 1 Axes>"
      ]
     },
     "metadata": {
      "tags": []
     },
     "output_type": "display_data"
    }
   ],
   "source": [
    " \n",
    "# #ALL FOLDER TEST\n",
    "\n",
    "# ## Single folder test\n",
    "# maskpath = '/content/drive/My Drive/Blobdetector/data/P0016/Mask'\n",
    "# maskfile = glob.glob('%s/*.tif' % maskpath)\n",
    "\n",
    "\n",
    "# masknewpath = '/content/drive/My Drive/Blobdetector/data/P0016/Masknew'  #where separated masks will be saved\n",
    "\n",
    "# print(\"mask files are:\", maskfile)\n",
    "# n_images= len(maskfile)\n",
    "# print(\"Number of images:\", n_images)\n",
    "\n",
    "# # Sample image\n",
    "# mask1path= maskfile[0]\n",
    "# print(mask1path)\n",
    "# mask1=cv2.imread(mask1path, cv2.IMREAD_GRAYSCALE)\n",
    "# h,w=mask1.shape\n",
    "\n",
    "# plt.rcParams[\"figure.figsize\"] = (7,7) \n",
    "# plt.imshow(mask1)\n",
    "# plt.show()"
   ]
  },
  {
   "cell_type": "code",
   "execution_count": 0,
   "metadata": {
    "colab": {},
    "colab_type": "code",
    "id": "NYHu5nbcznRl"
   },
   "outputs": [],
   "source": [
    "\n",
    "\n",
    "# #Get Contours\n",
    "# ret, thresh = cv2.threshold(mask1, 127, 255, 0)\n",
    "# contours, hierarchy = cv2.findContours(thresh, cv2.RETR_TREE, cv2.CHAIN_APPROX_SIMPLE)\n",
    "# contours_area = []\n",
    "# # calculate area and filter into new array\n",
    "# for i in range(0,len(contours)):\n",
    "#   img = np.zeros( (h,w))\n",
    "#   cv2.fillPoly(img, pts = [contours[i]], color=(255,255,255))\n",
    "#   img.astype('uint8')\n",
    "#   im = Image.fromarray(img)\n",
    "#   im.save(os.path.join(masknewpath,\"P0016_\"+str(i)+\".tif\"))  #32bit\n"
   ]
  },
  {
   "cell_type": "code",
   "execution_count": 0,
   "metadata": {
    "colab": {
     "base_uri": "https://localhost:8080/",
     "height": 34
    },
    "colab_type": "code",
    "executionInfo": {
     "elapsed": 389,
     "status": "ok",
     "timestamp": 1579894743489,
     "user": {
      "displayName": "Sun-Joo Jang",
      "photoUrl": "",
      "userId": "11345995941196038776"
     },
     "user_tz": 300
    },
    "id": "YbNYEqe0EBa3",
    "outputId": "a180facf-650f-4c68-f404-221857cbdc28"
   },
   "outputs": [
    {
     "data": {
      "text/plain": [
       "4"
      ]
     },
     "execution_count": 56,
     "metadata": {
      "tags": []
     },
     "output_type": "execute_result"
    }
   ],
   "source": [
    "# len(contours)\n",
    "#   # cv2.imwrite(os.path.join(masknewpath,\"P0016_\"+str(i)+\".tif\"), img)"
   ]
  },
  {
   "cell_type": "code",
   "execution_count": 0,
   "metadata": {
    "colab": {
     "base_uri": "https://localhost:8080/",
     "height": 432
    },
    "colab_type": "code",
    "executionInfo": {
     "elapsed": 667,
     "status": "ok",
     "timestamp": 1579894804516,
     "user": {
      "displayName": "Sun-Joo Jang",
      "photoUrl": "",
      "userId": "11345995941196038776"
     },
     "user_tz": 300
    },
    "id": "0PHuYQbjD2Hp",
    "outputId": "0a53b42e-6a29-4679-f2ec-429b3e88ea4c"
   },
   "outputs": [
    {
     "data": {
      "image/png": "[encoded data removed]",
      "text/plain": [
       "<Figure size 504x504 with 1 Axes>"
      ]
     },
     "metadata": {
      "tags": []
     },
     "output_type": "display_data"
    }
   ],
   "source": [
    "# # contours = np.array( [ [50,50], [50,150], [150, 150], [150,50] ] )\n",
    "# img = np.zeros( (h,w) ) # create a single channel 200x200 pixel black image \n",
    "# cv2.fillPoly(img, pts =[contours[0]], color=(255,255,255))\n",
    "# plt.imshow(img)\n",
    "# plt.show()"
   ]
  },
  {
   "cell_type": "code",
   "execution_count": 0,
   "metadata": {
    "colab": {
     "base_uri": "https://localhost:8080/",
     "height": 449
    },
    "colab_type": "code",
    "executionInfo": {
     "elapsed": 510,
     "status": "ok",
     "timestamp": 1579894150395,
     "user": {
      "displayName": "Sun-Joo Jang",
      "photoUrl": "",
      "userId": "11345995941196038776"
     },
     "user_tz": 300
    },
    "id": "syNzqI4S1kFO",
    "outputId": "40ef0193-f191-4748-a3cf-45115ea63333"
   },
   "outputs": [
    {
     "name": "stdout",
     "output_type": "stream",
     "text": [
      "number of vertebrae:  4\n"
     ]
    },
    {
     "data": {
      "image/png": "[encoded data removed]",
      "text/plain": [
       "<Figure size 504x504 with 1 Axes>"
      ]
     },
     "metadata": {
      "tags": []
     },
     "output_type": "display_data"
    }
   ],
   "source": [
    "# print(\"number of vertebrae: \",len(contours_area))\n",
    "# mask1_01=np.zeros((h,w))\n",
    "\n",
    "# cv2.drawContours(mask1_01, contours[3], -1, (255), thickness=cv2.FILLED) \n",
    "# #cv2.fillPoly((mask1_01, pts=[contours], color=(255,255,255))\n",
    "\n",
    "# plt.imshow(mask1_01)\n",
    "# plt.show()"
   ]
  }
 ],
 "metadata": {
  "accelerator": "GPU",
  "colab": {
   "authorship_tag": "ABX9TyNv5z3WE1S6d0Q1VOuB8w9E",
   "collapsed_sections": [],
   "name": "Blobdetection.ipynb",
   "provenance": []
  },
  "kernelspec": {
   "display_name": "Python 3",
   "language": "python",
   "name": "python3"
  },
  "language_info": {
   "codemirror_mode": {
    "name": "ipython",
    "version": 3
   },
   "file_extension": ".py",
   "mimetype": "text/x-python",
   "name": "python",
   "nbconvert_exporter": "python",
   "pygments_lexer": "ipython3",
   "version": "3.7.4"
  }
 },
 "nbformat": 4,
 "nbformat_minor": 1
}
